{
 "cells": [
  {
   "cell_type": "code",
   "execution_count": null,
   "metadata": {},
   "outputs": [],
   "source": [
    "import pandas as pd\n",
    "import re"
   ]
  },
  {
   "cell_type": "code",
   "execution_count": null,
   "metadata": {},
   "outputs": [],
   "source": [
    "# Load Myntra dataset\n",
    "myntra = pd.read_csv('myntra_dataset.csv')"
   ]
  },
  {
   "cell_type": "code",
   "execution_count": null,
   "metadata": {},
   "outputs": [],
   "source": [
    "myntra"
   ]
  },
  {
   "cell_type": "code",
   "execution_count": null,
   "metadata": {},
   "outputs": [],
   "source": [
    "myntra.shape"
   ]
  },
  {
   "cell_type": "code",
   "execution_count": null,
   "metadata": {},
   "outputs": [],
   "source": [
    "# Remove duplicate entries based on title from myntra\n",
    "myntra = myntra.drop_duplicates(subset=['title'])\n",
    "myntra.shape"
   ]
  },
  {
   "cell_type": "code",
   "execution_count": null,
   "metadata": {},
   "outputs": [],
   "source": [
    "# All the features of the dataset\n",
    "features = myntra.columns\n",
    "print(features)"
   ]
  },
  {
   "cell_type": "code",
   "execution_count": null,
   "metadata": {},
   "outputs": [],
   "source": [
    "# To check if the dataset has any null values or not\n",
    "myntra.isnull().sum()"
   ]
  },
  {
   "cell_type": "code",
   "execution_count": null,
   "metadata": {},
   "outputs": [],
   "source": [
    "myntra['product_id'].value_counts()"
   ]
  },
  {
   "cell_type": "code",
   "execution_count": null,
   "metadata": {},
   "outputs": [],
   "source": [
    "# Drop duplicate products based on product_id\n",
    "myntra = myntra.drop_duplicates(subset=[\"product_id\"])\n",
    "myntra.shape"
   ]
  },
  {
   "cell_type": "code",
   "execution_count": null,
   "metadata": {},
   "outputs": [],
   "source": [
    "myntra['inventory'][1]"
   ]
  },
  {
   "cell_type": "code",
   "execution_count": null,
   "metadata": {},
   "outputs": [],
   "source": [
    "# Firstly Fill every null values with \"\"\n",
    "myntra.fillna({\"inventory\": \"\"}, inplace=True)\n",
    "\n",
    "# If string has length less than 2 = replace it with \" \" in inventory\n",
    "def updateInventory(x):\n",
    "    if (len(x) < 2):\n",
    "        x = \" \"\n",
    "    return x\n",
    "\n",
    "myntra['inventory'] = myntra['inventory'].apply(updateInventory)\n",
    "myntra['inventory']"
   ]
  },
  {
   "cell_type": "code",
   "execution_count": null,
   "metadata": {},
   "outputs": [],
   "source": [
    "# Split the string and then replace all numvers and regular expressions with \" \" and return preprocessed string which can bes used in model training\n",
    "def preprocessInventory(x):\n",
    "    ls = x.split(\" | \")\n",
    "    str = \" \".join(ls)\n",
    "\n",
    "    cleanString = re.sub('\\W+', ' ', str).strip()\n",
    "    return cleanString.lower()\n",
    "\n",
    "myntra['Pre_Inventory'] = myntra['inventory'].apply(preprocessInventory)\n",
    "\n",
    "\n",
    "# for getting all values separated by \"/\" and use it into model\n",
    "def preprocessType(x):\n",
    "    ls = x.split(\"/\")\n",
    "    str = ' '.join(ls).strip()\n",
    "    return str.lower()\n",
    "\n",
    "myntra['type'] = myntra['type'].apply(preprocessType)\n",
    "\n",
    "\n",
    "# Remove numbers and regular expressions from the string and preprocess it\n",
    "def preprocessBody(x):\n",
    "    cleanString = re.sub(r\"[^A-Za-z]+\", ' ', x)\n",
    "    return cleanString.lower()\n",
    "\n",
    "myntra['preprocess_body'] = myntra['body'].apply(preprocessBody)\n",
    "\n",
    "\n",
    "def preprocessCareInstruction(x):\n",
    "    if isinstance(x, str):\n",
    "        x = x.replace(u'\\xa0', u' ')\n",
    "        x = x.replace('-', '')\n",
    "\n",
    "        ls = x.split(\" | \")\n",
    "        str_ = \" \".join(ls)\n",
    "\n",
    "        cleanString = re.sub('\\W+', ' ', str_).strip()\n",
    "        return cleanString.lower()\n",
    "    elif isinstance(x, (float, int)):\n",
    "        # Convert float or integer to string and preprocess\n",
    "        return preprocessCareInstruction(str(x))\n",
    "\n",
    "myntra['care_instructions'] = myntra['care_instructions'].apply(preprocessCareInstruction)"
   ]
  },
  {
   "cell_type": "code",
   "execution_count": null,
   "metadata": {},
   "outputs": [],
   "source": [
    "myntra['type'][0]"
   ]
  },
  {
   "cell_type": "code",
   "execution_count": null,
   "metadata": {},
   "outputs": [],
   "source": [
    "myntra['preprocess_body'][0]"
   ]
  },
  {
   "cell_type": "code",
   "execution_count": null,
   "metadata": {},
   "outputs": [],
   "source": [
    "myntra['care_instructions'][2]"
   ]
  },
  {
   "cell_type": "code",
   "execution_count": null,
   "metadata": {},
   "outputs": [],
   "source": [
    "# Fill every null values with \"\"\n",
    "myntra.fillna({'care_instructions': \"\"}, inplace=True)\n",
    "myntra.fillna({'dominant_material': \"\"}, inplace=True)\n",
    "myntra.fillna({'dominant_color': \"\"}, inplace=True)\n",
    "myntra.fillna({'actual_color': \"\"}, inplace=True)\n",
    "myntra.fillna({'specifications': \"\"}, inplace=True)"
   ]
  },
  {
   "cell_type": "code",
   "execution_count": null,
   "metadata": {},
   "outputs": [],
   "source": [
    "# Multiple images are there so covert them into list\n",
    "def image_process(x):\n",
    "    x = x.split(\" | \")\n",
    "    return x\n",
    "\n",
    "myntra['images'] = myntra['images'].apply(image_process)\n",
    "myntra['images'][0]"
   ]
  },
  {
   "cell_type": "code",
   "execution_count": null,
   "metadata": {},
   "outputs": [],
   "source": [
    "# remove all data with less than 4 images\n",
    "myntra = myntra[myntra['images'].apply(lambda x : len(x) > 3)]"
   ]
  },
  {
   "cell_type": "code",
   "execution_count": null,
   "metadata": {},
   "outputs": [],
   "source": [
    "myntra.head()"
   ]
  },
  {
   "cell_type": "code",
   "execution_count": null,
   "metadata": {},
   "outputs": [],
   "source": [
    "# Drop Unnecessery column\n",
    "myntra.drop('Unnamed: 25', axis=1, inplace=True)\n",
    "\n",
    "# Remove all null values and reset index\n",
    "myntra.dropna(inplace=True)\n",
    "myntra.reset_index(inplace=True)"
   ]
  },
  {
   "cell_type": "code",
   "execution_count": null,
   "metadata": {},
   "outputs": [],
   "source": [
    "# Set Product_id = index\n",
    "myntra['product_id'] = myntra['index']"
   ]
  },
  {
   "cell_type": "code",
   "execution_count": null,
   "metadata": {},
   "outputs": [],
   "source": [
    "myntra = myntra.drop_duplicates(subset=['title'])"
   ]
  },
  {
   "cell_type": "code",
   "execution_count": null,
   "metadata": {},
   "outputs": [],
   "source": [
    "myntra.shape[0]"
   ]
  },
  {
   "cell_type": "code",
   "execution_count": null,
   "metadata": {},
   "outputs": [],
   "source": [
    "myntra['img1'] = myntra['images'].apply(lambda x: x[0])\n",
    "myntra['img2'] = myntra['images'].apply(lambda x: x[1])\n",
    "myntra['img3'] = myntra['images'].apply(lambda x: x[2])\n",
    "myntra['img4'] = myntra['images'].apply(lambda x: x[3])"
   ]
  },
  {
   "cell_type": "code",
   "execution_count": null,
   "metadata": {},
   "outputs": [],
   "source": [
    "myntra.columns"
   ]
  },
  {
   "cell_type": "code",
   "execution_count": null,
   "metadata": {},
   "outputs": [],
   "source": [
    "# Creating corpus of data for model training\n",
    "myntra['corpusData'] = myntra['size']+ \" \"  + myntra['care_instructions']+ \" \" + myntra['dominant_material']+ \" \" + myntra['actual_color'] + \" \" + myntra['dominant_color'] + \" \" + myntra['product_type']+ \" \" + myntra['preprocess_body'] + \" \" + myntra['type'] + \" \" + myntra['ideal_for'] + \" \" + myntra['Pre_Inventory']"
   ]
  },
  {
   "cell_type": "code",
   "execution_count": null,
   "metadata": {},
   "outputs": [],
   "source": [
    "myntra.columns"
   ]
  },
  {
   "cell_type": "code",
   "execution_count": null,
   "metadata": {},
   "outputs": [],
   "source": [
    "myntra"
   ]
  },
  {
   "cell_type": "code",
   "execution_count": null,
   "metadata": {},
   "outputs": [],
   "source": [
    "# Remove columns\n",
    "drop_columns = ['index', 'crawl_timestamp', 'uniq_id', 'variant_sku', 'link', 'care_instructions', 'is_in_stock', 'images', 'size_fit', 'specifications']\n",
    "myntra.drop(drop_columns, axis=1, inplace=True)\n",
    "myntra.reset_index(drop=True, inplace=True)"
   ]
  },
  {
   "cell_type": "code",
   "execution_count": null,
   "metadata": {},
   "outputs": [],
   "source": [
    "# Store updated data into myntra.csv file\n",
    "myntra.to_csv('processed_data/clean_myntra.csv')"
   ]
  }
 ],
 "metadata": {
  "kernelspec": {
   "display_name": "Python 3",
   "language": "python",
   "name": "python3"
  },
  "language_info": {
   "codemirror_mode": {
    "name": "ipython",
    "version": 3
   },
   "file_extension": ".py",
   "mimetype": "text/x-python",
   "name": "python",
   "nbconvert_exporter": "python",
   "pygments_lexer": "ipython3",
   "version": "3.10.11"
  }
 },
 "nbformat": 4,
 "nbformat_minor": 2
}
